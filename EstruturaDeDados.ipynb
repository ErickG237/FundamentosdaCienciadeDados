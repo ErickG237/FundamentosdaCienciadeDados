{
 "cells": [
  {
   "cell_type": "markdown",
   "id": "6dcaf40f-d73d-4ad9-9577-c95dc86baf8e",
   "metadata": {
    "tags": []
   },
   "source": [
    "#Dicionario"
   ]
  },
  {
   "cell_type": "code",
   "execution_count": 43,
   "id": "467a897e-cd19-47cb-9768-6f670099ff5c",
   "metadata": {
    "tags": []
   },
   "outputs": [],
   "source": [
    "Dicionario_pessoa = {\"nome\": \"Carlos\", \"idade\":30, \"Cidade\": \"São Paulo\"}"
   ]
  },
  {
   "cell_type": "code",
   "execution_count": 46,
   "id": "b228bdb6-f561-4400-9362-5bea6f34ac61",
   "metadata": {
    "tags": []
   },
   "outputs": [
    {
     "data": {
      "text/plain": [
       "{'nome': 'Carlos', 'idade': 30, 'Cidade': 'São Paulo'}"
      ]
     },
     "execution_count": 46,
     "metadata": {},
     "output_type": "execute_result"
    }
   ],
   "source": [
    "Dicionario_pessoa"
   ]
  },
  {
   "cell_type": "code",
   "execution_count": 47,
   "id": "f7708558-5618-4863-a9b5-71775f629db5",
   "metadata": {
    "tags": []
   },
   "outputs": [
    {
     "data": {
      "text/plain": [
       "'Carlos'"
      ]
     },
     "execution_count": 47,
     "metadata": {},
     "output_type": "execute_result"
    }
   ],
   "source": [
    "Dicionario_pessoa['nome']"
   ]
  },
  {
   "cell_type": "code",
   "execution_count": 51,
   "id": "9a571546-6b3e-4ca8-8800-ad117a691c72",
   "metadata": {
    "tags": []
   },
   "outputs": [
    {
     "data": {
      "text/plain": [
       "{'nome': 'Carlos',\n",
       " 'idade': 31,\n",
       " 'Cidade': 'São Paulo',\n",
       " 'Profissao': 'Engenheiro'}"
      ]
     },
     "execution_count": 51,
     "metadata": {},
     "output_type": "execute_result"
    }
   ],
   "source": [
    "Dicionario_pessoa['Profissao'] = \"Engenheiro\"\n",
    "Dicionario_pessoa"
   ]
  },
  {
   "cell_type": "code",
   "execution_count": 49,
   "id": "b06d4bf9-dccf-4f98-851b-a35212cec9f7",
   "metadata": {
    "tags": []
   },
   "outputs": [
    {
     "data": {
      "text/plain": [
       "{'nome': 'Carlos', 'idade': 31, 'Cidade': 'São Paulo'}"
      ]
     },
     "execution_count": 49,
     "metadata": {},
     "output_type": "execute_result"
    }
   ],
   "source": [
    "Dicionario_pessoa['idade'] = 31\n",
    "Dicionario_pessoa"
   ]
  },
  {
   "cell_type": "code",
   "execution_count": 17,
   "id": "b7cba590-9834-418c-8b5a-e9cc0035b39c",
   "metadata": {
    "tags": []
   },
   "outputs": [
    {
     "data": {
      "text/plain": [
       "dict_keys(['nome', 'idade', 'filhos', 'cidade'])"
      ]
     },
     "execution_count": 17,
     "metadata": {},
     "output_type": "execute_result"
    }
   ],
   "source": [
    "meu_dicionario.keys()"
   ]
  },
  {
   "cell_type": "code",
   "execution_count": 19,
   "id": "6bf9ef92-9fc8-41b6-aa00-b3a2a98e54a9",
   "metadata": {
    "tags": []
   },
   "outputs": [
    {
     "data": {
      "text/plain": [
       "dict_items([('nome', 'Paulo'), ('idade', 30), ('filhos', ['João', 'Maria']), ('cidade', 'Cariacica')])"
      ]
     },
     "execution_count": 19,
     "metadata": {},
     "output_type": "execute_result"
    }
   ],
   "source": [
    "#Acesso aos itens do dicionario\n",
    "meu_dicionario.items()"
   ]
  },
  {
   "cell_type": "code",
   "execution_count": 21,
   "id": "d2da55c2-40eb-4505-ba6b-97f3e07b04f1",
   "metadata": {
    "tags": []
   },
   "outputs": [
    {
     "data": {
      "text/plain": [
       "dict_values(['Paulo', 30, ['João', 'Maria'], 'Cariacica'])"
      ]
     },
     "execution_count": 21,
     "metadata": {},
     "output_type": "execute_result"
    }
   ],
   "source": []
  },
  {
   "cell_type": "code",
   "execution_count": 24,
   "id": "469efce9-cbb2-470a-8304-9bf618a3efcb",
   "metadata": {
    "tags": []
   },
   "outputs": [
    {
     "name": "stdout",
     "output_type": "stream",
     "text": [
      "O nome do professor é Paulo\n"
     ]
    }
   ],
   "source": []
  },
  {
   "cell_type": "code",
   "execution_count": 26,
   "id": "0a7c07ec-b826-4c23-a66c-279018884954",
   "metadata": {
    "tags": []
   },
   "outputs": [
    {
     "name": "stdout",
     "output_type": "stream",
     "text": [
      "Digite o nome:\n"
     ]
    },
    {
     "name": "stdin",
     "output_type": "stream",
     "text": [
      " erick\n"
     ]
    }
   ],
   "source": []
  },
  {
   "cell_type": "code",
   "execution_count": 28,
   "id": "cc7dd01d-0f1d-40b3-ab8e-0a834ff69601",
   "metadata": {
    "tags": []
   },
   "outputs": [
    {
     "name": "stdout",
     "output_type": "stream",
     "text": [
      "Digite a idade:\n"
     ]
    },
    {
     "name": "stdin",
     "output_type": "stream",
     "text": [
      " 09\n"
     ]
    }
   ],
   "source": [
    "\n"
   ]
  },
  {
   "cell_type": "markdown",
   "id": "55fbe23d-305b-45de-925a-8027fa85e3d4",
   "metadata": {},
   "source": []
  },
  {
   "cell_type": "code",
   "execution_count": 29,
   "id": "fdd2b2d6-e196-402c-bf78-8ecf2cd9f65f",
   "metadata": {
    "tags": []
   },
   "outputs": [],
   "source": []
  },
  {
   "cell_type": "code",
   "execution_count": 30,
   "id": "98f95e71-3ee7-4c64-a69e-b91bd7cf9391",
   "metadata": {
    "tags": []
   },
   "outputs": [
    {
     "data": {
      "text/plain": [
       "2"
      ]
     },
     "execution_count": 30,
     "metadata": {},
     "output_type": "execute_result"
    }
   ],
   "source": []
  },
  {
   "cell_type": "code",
   "execution_count": 32,
   "id": "f015e368-fb72-4971-a1dd-b3aace2e1d82",
   "metadata": {
    "tags": []
   },
   "outputs": [],
   "source": []
  },
  {
   "cell_type": "code",
   "execution_count": 34,
   "id": "22a81f57-fca3-4d7c-9b88-c048246b968e",
   "metadata": {
    "tags": []
   },
   "outputs": [
    {
     "data": {
      "text/plain": [
       "1"
      ]
     },
     "execution_count": 34,
     "metadata": {},
     "output_type": "execute_result"
    }
   ],
   "source": []
  },
  {
   "cell_type": "code",
   "execution_count": 36,
   "id": "9394cc27-bb4f-4c89-84cf-cb6f28b8f754",
   "metadata": {
    "tags": []
   },
   "outputs": [
    {
     "data": {
      "text/plain": [
       "2"
      ]
     },
     "execution_count": 36,
     "metadata": {},
     "output_type": "execute_result"
    }
   ],
   "source": []
  },
  {
   "cell_type": "code",
   "execution_count": 52,
   "id": "b61a4309-c337-4224-ae4d-9c8f149255d4",
   "metadata": {
    "tags": []
   },
   "outputs": [
    {
     "data": {
      "text/plain": [
       "'São Paulo'"
      ]
     },
     "execution_count": 52,
     "metadata": {},
     "output_type": "execute_result"
    }
   ],
   "source": [
    "meu_dicionario.pop(\"Cidade\")"
   ]
  }
 ],
 "metadata": {
  "kernelspec": {
   "display_name": "Python 3 (ipykernel)",
   "language": "python",
   "name": "python3"
  },
  "language_info": {
   "codemirror_mode": {
    "name": "ipython",
    "version": 3
   },
   "file_extension": ".py",
   "mimetype": "text/x-python",
   "name": "python",
   "nbconvert_exporter": "python",
   "pygments_lexer": "ipython3",
   "version": "3.11.5"
  }
 },
 "nbformat": 4,
 "nbformat_minor": 5
}
