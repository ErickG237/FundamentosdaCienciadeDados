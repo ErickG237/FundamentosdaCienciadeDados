{
 "cells": [
  {
   "cell_type": "code",
   "execution_count": 2,
   "id": "f4b1c0a4-622e-450f-9b57-68c439711acb",
   "metadata": {
    "tags": []
   },
   "outputs": [
    {
     "name": "stdout",
     "output_type": "stream",
     "text": [
      "digite seu nome\n"
     ]
    },
    {
     "name": "stdin",
     "output_type": "stream",
     "text": [
      " erick\n"
     ]
    }
   ],
   "source": [
    "print('digite seu nome')\n",
    "nome = input()"
   ]
  },
  {
   "cell_type": "code",
   "execution_count": 3,
   "id": "b97e9417-2ff4-4cd7-8eca-6c1a7553c7e9",
   "metadata": {
    "tags": []
   },
   "outputs": [
    {
     "name": "stdout",
     "output_type": "stream",
     "text": [
      "digite sua idade\n"
     ]
    },
    {
     "name": "stdin",
     "output_type": "stream",
     "text": [
      " 34\n"
     ]
    }
   ],
   "source": [
    "print('digite sua idade')\n",
    "idade = input()"
   ]
  },
  {
   "cell_type": "code",
   "execution_count": 4,
   "id": "0d8c1a02-39fc-432f-9aee-a71400186975",
   "metadata": {
    "tags": []
   },
   "outputs": [
    {
     "name": "stdout",
     "output_type": "stream",
     "text": [
      "digite sua altura\n"
     ]
    },
    {
     "name": "stdin",
     "output_type": "stream",
     "text": [
      " 1,65\n"
     ]
    }
   ],
   "source": [
    "print('digite sua altura')\n",
    "altura = input()"
   ]
  },
  {
   "cell_type": "code",
   "execution_count": 10,
   "id": "e8bd3f03-1f50-402c-a71b-7985586bb581",
   "metadata": {
    "tags": []
   },
   "outputs": [
    {
     "name": "stdout",
     "output_type": "stream",
     "text": [
      "Meu nome é erick, tenho 34 anos e minha altura é 1,65 metros.\n"
     ]
    }
   ],
   "source": [
    "print(f\"Meu nome é {nome}, tenho {idade} anos e minha altura é {altura} metros.\")"
   ]
  },
  {
   "cell_type": "code",
   "execution_count": 24,
   "id": "d5099ebc-aca8-45cc-8aa5-47eb6eddeb78",
   "metadata": {
    "tags": []
   },
   "outputs": [
    {
     "data": {
      "text/plain": [
       "'PYTHON É UMA LINGUAGEM DE PROGRAMAÇÃO MUITO PODEROSA.'"
      ]
     },
     "execution_count": 24,
     "metadata": {},
     "output_type": "execute_result"
    }
   ],
   "source": [
    "frase = \"Python é uma linguagem de programação muito poderosa.\"\n",
    "\n",
    "frase.upper()\n"
   ]
  },
  {
   "cell_type": "code",
   "execution_count": 21,
   "id": "92c1f1b9-8e16-4866-925e-ef38d95212a5",
   "metadata": {
    "tags": []
   },
   "outputs": [
    {
     "data": {
      "text/plain": [
       "'python é uma linguagem de programação muito poderosa.'"
      ]
     },
     "execution_count": 21,
     "metadata": {},
     "output_type": "execute_result"
    }
   ],
   "source": [
    "frase.lower()"
   ]
  },
  {
   "cell_type": "code",
   "execution_count": 27,
   "id": "9fccc57c-a7b3-4a8f-81fa-716625b9733b",
   "metadata": {
    "tags": []
   },
   "outputs": [
    {
     "name": "stdout",
     "output_type": "stream",
     "text": [
      "Python é uma linguagem de programação extremamente poderosa.\n"
     ]
    }
   ],
   "source": [
    "print(frase.replace(\"muito\", \"extremamente\"))"
   ]
  },
  {
   "cell_type": "code",
   "execution_count": 28,
   "id": "1b9a1fd6-caec-451e-a8e5-2eb6e5a7b327",
   "metadata": {
    "tags": []
   },
   "outputs": [
    {
     "data": {
      "text/plain": [
       "['Python', 'é', 'uma', 'linguagem', 'de', 'programação', 'muito', 'poderosa.']"
      ]
     },
     "execution_count": 28,
     "metadata": {},
     "output_type": "execute_result"
    }
   ],
   "source": [
    "frase.split()"
   ]
  },
  {
   "cell_type": "code",
   "execution_count": 65,
   "id": "3980a8f3-6d0d-45e6-bf16-889d1b1611be",
   "metadata": {
    "tags": []
   },
   "outputs": [
    {
     "data": {
      "text/plain": [
       "['maçã', 'banana', 'laranja', 'uva', 'abacaxi']"
      ]
     },
     "execution_count": 65,
     "metadata": {},
     "output_type": "execute_result"
    }
   ],
   "source": [
    "list_frutas = [\"maçã\", \"banana\", \"laranja\",\"uva\", \"abacaxi\"]\n",
    "list_frutas"
   ]
  },
  {
   "cell_type": "code",
   "execution_count": 35,
   "id": "85311d64-8f34-4c3a-bae9-03ba99cbf102",
   "metadata": {
    "tags": []
   },
   "outputs": [
    {
     "data": {
      "text/plain": [
       "['maçã', 'banana', 'laranja', 'uva', 'abacaxi', 'manga', 'manga', 'manga']"
      ]
     },
     "execution_count": 35,
     "metadata": {},
     "output_type": "execute_result"
    }
   ],
   "source": [
    "list_frutas.append(\"manga\")\n",
    "list_frutas"
   ]
  },
  {
   "cell_type": "code",
   "execution_count": 68,
   "id": "b0547ba8-ef5b-4bcd-b51e-2af4f29b05cc",
   "metadata": {
    "tags": []
   },
   "outputs": [
    {
     "data": {
      "text/plain": [
       "['maçã', 'banana', 'uva', 'abacaxi']"
      ]
     },
     "execution_count": 68,
     "metadata": {},
     "output_type": "execute_result"
    }
   ],
   "source": [
    "list_frutas = [\"maçã\", \"banana\", \"laranja\",\"uva\", \"abacaxi\"]\n",
    "list_frutas.remove(\"laranja\")\n",
    "list_frutas"
   ]
  },
  {
   "cell_type": "code",
   "execution_count": 72,
   "id": "1b7ba03b-9fde-4710-adc6-6c38ff4190e2",
   "metadata": {
    "tags": []
   },
   "outputs": [
    {
     "data": {
      "text/plain": [
       "'laranja'"
      ]
     },
     "execution_count": 72,
     "metadata": {},
     "output_type": "execute_result"
    }
   ],
   "source": [
    "list_frutas = [\"maçã\", \"banana\", \"laranja\",\"uva\", \"abacaxi\"]\n",
    "list_frutas[2]"
   ]
  },
  {
   "cell_type": "code",
   "execution_count": 76,
   "id": "a0a767dc-4090-47fb-b117-e8db55d44e28",
   "metadata": {
    "tags": []
   },
   "outputs": [
    {
     "data": {
      "text/plain": [
       "['abacaxi', 'banana', 'laranja', 'maçã', 'uva']"
      ]
     },
     "execution_count": 76,
     "metadata": {},
     "output_type": "execute_result"
    }
   ],
   "source": [
    "list_frutas.sort()\n",
    "list_frutas"
   ]
  },
  {
   "cell_type": "code",
   "execution_count": 83,
   "id": "02f181ca-ed28-4280-9512-2ba634bf634f",
   "metadata": {
    "tags": []
   },
   "outputs": [
    {
     "data": {
      "text/plain": [
       "32"
      ]
     },
     "execution_count": 83,
     "metadata": {},
     "output_type": "execute_result"
    }
   ],
   "source": [
    "list_numeros = [10, 5, 8, 3, 6]\n",
    "sum_numeros = sum(list_numeros)\n",
    "sum_numeros"
   ]
  },
  {
   "cell_type": "code",
   "execution_count": 84,
   "id": "cbcc8ee9-2803-4238-93ac-15db6bd0d934",
   "metadata": {
    "tags": []
   },
   "outputs": [
    {
     "name": "stdin",
     "output_type": "stream",
     "text": [
      "Digite seu peso (kg):  4\n",
      "Digite sua altura (m):  3\n"
     ]
    },
    {
     "name": "stdout",
     "output_type": "stream",
     "text": [
      "Seu IMC é 0.44\n"
     ]
    }
   ],
   "source": [
    "# Solicita peso e altura ao usuário\n",
    "peso = float(input(\"Digite seu peso (kg): \"))\n",
    "altura = float(input(\"Digite sua altura (m): \"))\n",
    "\n",
    "# Calcula o IMC\n",
    "imc = peso / (altura ** 2)\n",
    "\n",
    "# Exibe o resultado\n",
    "print(f\"Seu IMC é {imc:.2f}\")"
   ]
  },
  {
   "cell_type": "code",
   "execution_count": 85,
   "id": "16a71c57-0bd7-49d0-8d23-716c9ddbac7e",
   "metadata": {
    "tags": []
   },
   "outputs": [
    {
     "name": "stdin",
     "output_type": "stream",
     "text": [
      "Digite seu nome completo:  3\n"
     ]
    },
    {
     "name": "stdout",
     "output_type": "stream",
     "text": [
      "Olá, 3!\n"
     ]
    }
   ],
   "source": [
    "# Solicita o nome completo do usuário\n",
    "nome_completo = input(\"Digite seu nome completo: \")\n",
    "\n",
    "# Obtém o primeiro nome (dividindo pelo espaço)\n",
    "primeiro_nome = nome_completo.split()[0]\n",
    "\n",
    "# Cumprimenta o usuário\n",
    "print(f\"Olá, {primeiro_nome}!\")"
   ]
  },
  {
   "cell_type": "code",
   "execution_count": null,
   "id": "4bab7c85-c1f1-4f89-9148-2f3d44c1dfc4",
   "metadata": {},
   "outputs": [],
   "source": [
    "# Solicita um e-mail ao usuário\n",
    "email = input(\"Digite seu e-mail: \")\n",
    "\n",
    "# Obtém o domínio (parte após '@')\n",
    "dominio = email.split('@')[-1]\n",
    "\n",
    "# Exibe o domínio\n",
    "print(f\"O domínio do seu e-mail é: {dominio}\")"
   ]
  }
 ],
 "metadata": {
  "kernelspec": {
   "display_name": "Python 3 (ipykernel)",
   "language": "python",
   "name": "python3"
  },
  "language_info": {
   "codemirror_mode": {
    "name": "ipython",
    "version": 3
   },
   "file_extension": ".py",
   "mimetype": "text/x-python",
   "name": "python",
   "nbconvert_exporter": "python",
   "pygments_lexer": "ipython3",
   "version": "3.11.5"
  }
 },
 "nbformat": 4,
 "nbformat_minor": 5
}
