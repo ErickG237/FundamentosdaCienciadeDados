{
 "cells": [
  {
   "cell_type": "markdown",
   "id": "96a92983-c8a6-4664-9252-121a91a00456",
   "metadata": {},
   "source": [
    "## if, elif, else"
   ]
  },
  {
   "cell_type": "code",
   "execution_count": null,
   "id": "35e30293-ce26-483f-a2a2-ac0272a0e364",
   "metadata": {
    "tags": []
   },
   "outputs": [],
   "source": [
    "print(\"Qual a temperatura hoje\")\n",
    "temp = float(input())\n",
    "\n",
    "if temp > 30:\n",
    "    print(\"Esta quente.\")"
   ]
  },
  {
   "cell_type": "code",
   "execution_count": null,
   "id": "6e8ac20c-25c8-4701-814c-fe23e89e5064",
   "metadata": {
    "tags": []
   },
   "outputs": [],
   "source": [
    "print(\"Qual a temperatura hoje\")\n",
    "temp = float(input())\n",
    "\n",
    "if temp > 30:\n",
    "    print(\"Esta quente.\")\n",
    "    \n",
    "elif temp < 0:\n",
    "    print(\"Deu ruim.\")\n",
    "\n",
    "elif temp < 20:\n",
    "    print(\"Esta frio.\")\n",
    "    \n",
    "else:\n",
    "    print(\"Esta ok.\")\n",
    "    \n",
    "          "
   ]
  },
  {
   "cell_type": "markdown",
   "id": "ef4aee2f-7843-4dec-b558-3335be1d4155",
   "metadata": {},
   "source": [
    "##Range"
   ]
  },
  {
   "cell_type": "code",
   "execution_count": null,
   "id": "03d41a23-923f-4f1c-83bb-e2f34512c9dc",
   "metadata": {
    "tags": []
   },
   "outputs": [],
   "source": [
    "list(range(10))"
   ]
  },
  {
   "cell_type": "markdown",
   "id": "8a594a0b-c790-4ec0-bd12-b6d1b566a3b5",
   "metadata": {},
   "source": [
    "##For"
   ]
  },
  {
   "cell_type": "code",
   "execution_count": null,
   "id": "b90d6357-757e-4b47-8222-8a473b7d32b5",
   "metadata": {
    "tags": []
   },
   "outputs": [],
   "source": [
    "for i in range(10):\n",
    "    print(i)"
   ]
  },
  {
   "cell_type": "code",
   "execution_count": null,
   "id": "b52f8753-d9fd-4e36-ac06-80b366092391",
   "metadata": {
    "tags": []
   },
   "outputs": [],
   "source": [
    "# Verificador de numeros pares\n",
    "for i in range(100):\n",
    "    if i % 2 == 0:\n",
    "        print(\"Numero {} é par\".format(i))"
   ]
  },
  {
   "cell_type": "markdown",
   "id": "a25a376c-9b4f-4600-ac13-903a637d1315",
   "metadata": {},
   "source": [
    "##While"
   ]
  },
  {
   "cell_type": "code",
   "execution_count": 2,
   "id": "2e1c388c-01f0-4ebe-af86-91e8ae8d1b09",
   "metadata": {
    "tags": []
   },
   "outputs": [
    {
     "name": "stdout",
     "output_type": "stream",
     "text": [
      "O valor de x é: 0\n",
      "O valor de x é: 1\n",
      "O valor de x é: 2\n",
      "O valor de x é: 3\n",
      "O valor de x é: 4\n",
      "O valor de x é: 5\n",
      "O valor de x é: 6\n",
      "O valor de x é: 7\n",
      "O valor de x é: 8\n",
      "O valor de x é: 9\n"
     ]
    }
   ],
   "source": [
    "x=0\n",
    "while x < 10:\n",
    "    print(\"O valor de x é: {}\".format(x))\n",
    "    x = x+1"
   ]
  },
  {
   "cell_type": "markdown",
   "id": "23951190-d5ee-4235-8d6f-b690201e15fe",
   "metadata": {},
   "source": [
    "##Funçoes"
   ]
  },
  {
   "cell_type": "code",
   "execution_count": 3,
   "id": "0925bcc2-9814-448d-913f-7d0f783c6033",
   "metadata": {
    "tags": []
   },
   "outputs": [],
   "source": [
    "def soma_numeros(x,y):\n",
    "    return x+y"
   ]
  },
  {
   "cell_type": "code",
   "execution_count": 4,
   "id": "75b981aa-d2c1-433e-a957-9e6cdbcabe7a",
   "metadata": {
    "tags": []
   },
   "outputs": [
    {
     "data": {
      "text/plain": [
       "3"
      ]
     },
     "execution_count": 4,
     "metadata": {},
     "output_type": "execute_result"
    }
   ],
   "source": [
    "soma_numeros(1,2)"
   ]
  }
 ],
 "metadata": {
  "kernelspec": {
   "display_name": "Python 3 (ipykernel)",
   "language": "python",
   "name": "python3"
  },
  "language_info": {
   "codemirror_mode": {
    "name": "ipython",
    "version": 3
   },
   "file_extension": ".py",
   "mimetype": "text/x-python",
   "name": "python",
   "nbconvert_exporter": "python",
   "pygments_lexer": "ipython3",
   "version": "3.11.5"
  }
 },
 "nbformat": 4,
 "nbformat_minor": 5
}
